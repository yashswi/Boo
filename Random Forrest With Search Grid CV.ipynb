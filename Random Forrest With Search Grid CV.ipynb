{
 "cells": [
  {
   "cell_type": "code",
   "execution_count": 1,
   "id": "043c998d",
   "metadata": {},
   "outputs": [],
   "source": [
    "%matplotlib inline\n",
    "import pandas as pd\n",
    "import numpy as np\n",
    "import sqlite3\n",
    "import nltk\n",
    "import matplotlib.pyplot as plt\n",
    "import seaborn as sns\n",
    "from sklearn.feature_extraction.text import TfidfTransformer\n",
    "from sklearn.feature_extraction.text import TfidfVectorizer\n",
    "from sklearn.feature_extraction.text import CountVectorizer\n",
    "from sklearn.metrics import confusion_matrix\n",
    "from sklearn import metrics\n",
    "from sklearn.metrics import roc_curve , auc\n",
    "from nltk.stem.porter import PorterStemmer"
   ]
  },
  {
   "cell_type": "code",
   "execution_count": 2,
   "id": "2689c09f",
   "metadata": {},
   "outputs": [],
   "source": [
    "df = pd.read_csv('more_preprocess.csv')"
   ]
  },
  {
   "cell_type": "code",
   "execution_count": 29,
   "id": "88b5426e",
   "metadata": {},
   "outputs": [],
   "source": [
    "test = pd.read_csv('test_preprocess.csv')"
   ]
  },
  {
   "cell_type": "code",
   "execution_count": 4,
   "id": "8b508db6",
   "metadata": {},
   "outputs": [],
   "source": [
    "fill_data = df.sample(n=100000, random_state=42)"
   ]
  },
  {
   "cell_type": "code",
   "execution_count": 5,
   "id": "9f1a7015",
   "metadata": {},
   "outputs": [],
   "source": [
    "from sklearn.ensemble import RandomForestClassifier\n",
    "from sklearn.model_selection import GridSearchCV\n",
    "from sklearn.datasets import load_iris\n",
    "from sklearn.model_selection import train_test_split\n",
    "from sklearn.feature_extraction.text import TfidfVectorizer\n",
    "from sklearn.naive_bayes import MultinomialNB\n",
    "from sklearn.model_selection import train_test_split\n",
    "from sklearn.metrics import accuracy_score, classification_report\n",
    "from sklearn.feature_extraction.text import CountVectorizer"
   ]
  },
  {
   "cell_type": "code",
   "execution_count": 6,
   "id": "507e61a1",
   "metadata": {},
   "outputs": [],
   "source": [
    "vectorizer = CountVectorizer(ngram_range=(1, 3),max_features=40000)\n",
    "fill_data['destr_review'] = fill_data['destr_review'].fillna('')\n",
    "test['destr_review'] = test['destr_review'].fillna('')\n",
    "X_vec = vectorizer.fit_transform(fill_data['destr_review'])\n",
    "test_vec = vectorizer.transform(test['destr_review'])"
   ]
  },
  {
   "cell_type": "code",
   "execution_count": 7,
   "id": "a77c417f",
   "metadata": {},
   "outputs": [],
   "source": [
    "labels = fill_data['rating']\n",
    "\n",
    "columns_not_to_drop = 'destr_review'\n",
    "for col in fill_data.columns:\n",
    "    if col not in columns_not_to_drop:\n",
    "        fill_data.drop(columns=col, inplace=True)\n",
    "\n",
    "columns_not_to_drop = 'destr_review'\n",
    "for col in test.columns:\n",
    "    if col not in columns_not_to_drop:\n",
    "        test.drop(columns=col, inplace=True)"
   ]
  },
  {
   "cell_type": "code",
   "execution_count": 8,
   "id": "f02f9845",
   "metadata": {},
   "outputs": [],
   "source": [
    "X_train, X_test, y_train, y_test = train_test_split(X_vec, labels, test_size=0.2, random_state=42)"
   ]
  },
  {
   "cell_type": "code",
   "execution_count": 22,
   "id": "efad126f",
   "metadata": {},
   "outputs": [],
   "source": [
    "rf_classifier = RandomForestClassifier()"
   ]
  },
  {
   "cell_type": "code",
   "execution_count": 23,
   "id": "c6f0f760",
   "metadata": {},
   "outputs": [],
   "source": [
    "param_grid = {\n",
    "    'n_estimators': [20, 30, 40],  # Number of trees in the forest\n",
    "    'max_depth': [None, 10, 11, 12],  # Maximum depth of the trees\n",
    "    'min_samples_split': [2, 5, 10],  # Minimum number of samples required to split a node\n",
    "    'min_samples_leaf': [1, 2, 4]  # Minimum number of samples required at each leaf node\n",
    "}"
   ]
  },
  {
   "cell_type": "code",
   "execution_count": 24,
   "id": "1dfbfefb",
   "metadata": {},
   "outputs": [
    {
     "name": "stdout",
     "output_type": "stream",
     "text": [
      "Fitting 5 folds for each of 108 candidates, totalling 540 fits\n"
     ]
    },
    {
     "data": {
      "text/plain": [
       "GridSearchCV(cv=5, estimator=RandomForestClassifier(), n_jobs=-1,\n",
       "             param_grid={'max_depth': [None, 10, 11, 12],\n",
       "                         'min_samples_leaf': [1, 2, 4],\n",
       "                         'min_samples_split': [2, 5, 10],\n",
       "                         'n_estimators': [20, 30, 40]},\n",
       "             verbose=2)"
      ]
     },
     "execution_count": 24,
     "metadata": {},
     "output_type": "execute_result"
    }
   ],
   "source": [
    "grid_search = GridSearchCV(estimator=rf_classifier, param_grid=param_grid, cv=5, n_jobs=-1, verbose=2)\n",
    "grid_search.fit(X_train, y_train)"
   ]
  },
  {
   "cell_type": "code",
   "execution_count": 25,
   "id": "929bfbf9",
   "metadata": {},
   "outputs": [
    {
     "data": {
      "text/plain": [
       "{'max_depth': None,\n",
       " 'min_samples_leaf': 2,\n",
       " 'min_samples_split': 5,\n",
       " 'n_estimators': 40}"
      ]
     },
     "execution_count": 25,
     "metadata": {},
     "output_type": "execute_result"
    }
   ],
   "source": [
    "grid_search.best_params_"
   ]
  },
  {
   "cell_type": "code",
   "execution_count": 26,
   "id": "73d173e0",
   "metadata": {},
   "outputs": [
    {
     "name": "stdout",
     "output_type": "stream",
     "text": [
      "Best Parameters: {'max_depth': None, 'min_samples_leaf': 2, 'min_samples_split': 5, 'n_estimators': 40}\n",
      "Best Score: 0.4613625\n"
     ]
    }
   ],
   "source": [
    "# Get the best parameters and the best score\n",
    "best_params = grid_search.best_params_\n",
    "best_score = grid_search.best_score_\n",
    "\n",
    "print(\"Best Parameters:\", best_params)\n",
    "print(\"Best Score:\", best_score)"
   ]
  },
  {
   "cell_type": "code",
   "execution_count": 27,
   "id": "2a47f7c8",
   "metadata": {},
   "outputs": [
    {
     "name": "stdout",
     "output_type": "stream",
     "text": [
      "Test Accuracy: 0.4632\n"
     ]
    }
   ],
   "source": [
    "best_rf = grid_search.best_estimator_\n",
    "test_accuracy = best_rf.score(X_test, y_test)\n",
    "print(\"Test Accuracy:\", test_accuracy)"
   ]
  },
  {
   "cell_type": "code",
   "execution_count": 30,
   "id": "392637af",
   "metadata": {},
   "outputs": [
    {
     "data": {
      "text/html": [
       "<div>\n",
       "<style scoped>\n",
       "    .dataframe tbody tr th:only-of-type {\n",
       "        vertical-align: middle;\n",
       "    }\n",
       "\n",
       "    .dataframe tbody tr th {\n",
       "        vertical-align: top;\n",
       "    }\n",
       "\n",
       "    .dataframe thead th {\n",
       "        text-align: right;\n",
       "    }\n",
       "</style>\n",
       "<table border=\"1\" class=\"dataframe\">\n",
       "  <thead>\n",
       "    <tr style=\"text-align: right;\">\n",
       "      <th></th>\n",
       "      <th>user_id</th>\n",
       "      <th>book_id</th>\n",
       "      <th>review_id</th>\n",
       "      <th>review_text</th>\n",
       "      <th>date_added</th>\n",
       "      <th>date_updated</th>\n",
       "      <th>read_at</th>\n",
       "      <th>started_at</th>\n",
       "      <th>n_votes</th>\n",
       "      <th>n_comments</th>\n",
       "      <th>review</th>\n",
       "      <th>destr_review</th>\n",
       "    </tr>\n",
       "  </thead>\n",
       "  <tbody>\n",
       "    <tr>\n",
       "      <th>0</th>\n",
       "      <td>e592483866ae722803c6e40572f9ea4e</td>\n",
       "      <td>21525330</td>\n",
       "      <td>606d3b7ba5cc90e4069b1e225b84deea</td>\n",
       "      <td>Very cute and sweet story about a girl who tra...</td>\n",
       "      <td>Thu Jan 08 14:52:16 -0800 2015</td>\n",
       "      <td>Sun Jan 11 19:53:03 -0800 2015</td>\n",
       "      <td>Sun Jan 11 00:00:00 -0800 2015</td>\n",
       "      <td>Fri Jan 09 00:00:00 -0800 2015</td>\n",
       "      <td>5</td>\n",
       "      <td>0</td>\n",
       "      <td>['cute', 'sweet', 'story', 'girl', 'travel', '...</td>\n",
       "      <td>cute sweet story girl travel neverland fall ca...</td>\n",
       "    </tr>\n",
       "    <tr>\n",
       "      <th>1</th>\n",
       "      <td>52e14841f8745f9761cb85d4ef60ef25</td>\n",
       "      <td>22848621</td>\n",
       "      <td>70388d316638176b827ea060839971ef</td>\n",
       "      <td>No plot regurgitation. \\n This couple are what...</td>\n",
       "      <td>Sat Jul 04 20:37:28 -0700 2015</td>\n",
       "      <td>Fri Feb 03 18:55:30 -0800 2017</td>\n",
       "      <td>Fri Feb 03 00:00:00 -0800 2017</td>\n",
       "      <td>Fri Feb 03 00:00:00 -0800 2017</td>\n",
       "      <td>3</td>\n",
       "      <td>4</td>\n",
       "      <td>['plot', 'regurgitation', 'couple', 'call', 'f...</td>\n",
       "      <td>plot regurgitation couple call fantasy fiction...</td>\n",
       "    </tr>\n",
       "    <tr>\n",
       "      <th>2</th>\n",
       "      <td>202b5764361fb781e18d2e3edeffd599</td>\n",
       "      <td>10852699</td>\n",
       "      <td>840a4fb63336a3fc2213e5016cafbca2</td>\n",
       "      <td>4 stars - Contemporary Romance</td>\n",
       "      <td>Thu Nov 04 10:21:44 -0700 2010</td>\n",
       "      <td>Sat Nov 26 05:48:55 -0800 2011</td>\n",
       "      <td>Fri Nov 25 00:00:00 -0800 2011</td>\n",
       "      <td>Fri Nov 25 00:00:00 -0800 2011</td>\n",
       "      <td>0</td>\n",
       "      <td>0</td>\n",
       "      <td>['star', 'contemporary', 'romance']</td>\n",
       "      <td>star contemporary romance</td>\n",
       "    </tr>\n",
       "    <tr>\n",
       "      <th>3</th>\n",
       "      <td>3519beb3f46f463283ccf9bdbe1622df</td>\n",
       "      <td>11588</td>\n",
       "      <td>6c5865dc54856d1dcb317c3dd42215a8</td>\n",
       "      <td>Another King I've read so many years ago. Back...</td>\n",
       "      <td>Thu Oct 04 03:43:05 -0700 2012</td>\n",
       "      <td>Wed Oct 02 07:17:30 -0700 2013</td>\n",
       "      <td>Thu Jan 01 00:00:00 -0800 1998</td>\n",
       "      <td>NaN</td>\n",
       "      <td>3</td>\n",
       "      <td>4</td>\n",
       "      <td>['another', 'king', 'read', 'many', 'year', 'a...</td>\n",
       "      <td>another king read many year ago back day read ...</td>\n",
       "    </tr>\n",
       "    <tr>\n",
       "      <th>4</th>\n",
       "      <td>4e637c380d40de359012be29091be3b4</td>\n",
       "      <td>15839984</td>\n",
       "      <td>0fdf6c933c0b299ebf5053b8d9a2f950</td>\n",
       "      <td>so good, SO GOOD. it took a while to suck me i...</td>\n",
       "      <td>Wed May 13 17:39:37 -0700 2015</td>\n",
       "      <td>Sun Jan 29 13:26:50 -0800 2017</td>\n",
       "      <td>Mon Aug 17 00:00:00 -0700 2015</td>\n",
       "      <td>Sun Aug 16 00:00:00 -0700 2015</td>\n",
       "      <td>1</td>\n",
       "      <td>11</td>\n",
       "      <td>['good', 'good', 'took', 'suck', 'convince', '...</td>\n",
       "      <td>good good took suck convince beginning resist ...</td>\n",
       "    </tr>\n",
       "  </tbody>\n",
       "</table>\n",
       "</div>"
      ],
      "text/plain": [
       "                            user_id   book_id  \\\n",
       "0  e592483866ae722803c6e40572f9ea4e  21525330   \n",
       "1  52e14841f8745f9761cb85d4ef60ef25  22848621   \n",
       "2  202b5764361fb781e18d2e3edeffd599  10852699   \n",
       "3  3519beb3f46f463283ccf9bdbe1622df     11588   \n",
       "4  4e637c380d40de359012be29091be3b4  15839984   \n",
       "\n",
       "                          review_id  \\\n",
       "0  606d3b7ba5cc90e4069b1e225b84deea   \n",
       "1  70388d316638176b827ea060839971ef   \n",
       "2  840a4fb63336a3fc2213e5016cafbca2   \n",
       "3  6c5865dc54856d1dcb317c3dd42215a8   \n",
       "4  0fdf6c933c0b299ebf5053b8d9a2f950   \n",
       "\n",
       "                                         review_text  \\\n",
       "0  Very cute and sweet story about a girl who tra...   \n",
       "1  No plot regurgitation. \\n This couple are what...   \n",
       "2                     4 stars - Contemporary Romance   \n",
       "3  Another King I've read so many years ago. Back...   \n",
       "4  so good, SO GOOD. it took a while to suck me i...   \n",
       "\n",
       "                       date_added                    date_updated  \\\n",
       "0  Thu Jan 08 14:52:16 -0800 2015  Sun Jan 11 19:53:03 -0800 2015   \n",
       "1  Sat Jul 04 20:37:28 -0700 2015  Fri Feb 03 18:55:30 -0800 2017   \n",
       "2  Thu Nov 04 10:21:44 -0700 2010  Sat Nov 26 05:48:55 -0800 2011   \n",
       "3  Thu Oct 04 03:43:05 -0700 2012  Wed Oct 02 07:17:30 -0700 2013   \n",
       "4  Wed May 13 17:39:37 -0700 2015  Sun Jan 29 13:26:50 -0800 2017   \n",
       "\n",
       "                          read_at                      started_at  n_votes  \\\n",
       "0  Sun Jan 11 00:00:00 -0800 2015  Fri Jan 09 00:00:00 -0800 2015        5   \n",
       "1  Fri Feb 03 00:00:00 -0800 2017  Fri Feb 03 00:00:00 -0800 2017        3   \n",
       "2  Fri Nov 25 00:00:00 -0800 2011  Fri Nov 25 00:00:00 -0800 2011        0   \n",
       "3  Thu Jan 01 00:00:00 -0800 1998                             NaN        3   \n",
       "4  Mon Aug 17 00:00:00 -0700 2015  Sun Aug 16 00:00:00 -0700 2015        1   \n",
       "\n",
       "   n_comments                                             review  \\\n",
       "0           0  ['cute', 'sweet', 'story', 'girl', 'travel', '...   \n",
       "1           4  ['plot', 'regurgitation', 'couple', 'call', 'f...   \n",
       "2           0                ['star', 'contemporary', 'romance']   \n",
       "3           4  ['another', 'king', 'read', 'many', 'year', 'a...   \n",
       "4          11  ['good', 'good', 'took', 'suck', 'convince', '...   \n",
       "\n",
       "                                        destr_review  \n",
       "0  cute sweet story girl travel neverland fall ca...  \n",
       "1  plot regurgitation couple call fantasy fiction...  \n",
       "2                          star contemporary romance  \n",
       "3  another king read many year ago back day read ...  \n",
       "4  good good took suck convince beginning resist ...  "
      ]
     },
     "execution_count": 30,
     "metadata": {},
     "output_type": "execute_result"
    }
   ],
   "source": [
    "test.head()"
   ]
  },
  {
   "cell_type": "code",
   "execution_count": 31,
   "id": "7104d596",
   "metadata": {},
   "outputs": [],
   "source": [
    "test_copy = test.copy()\n",
    "columns_not_to_drop = 'destr_review'\n",
    "for col in test.columns:\n",
    "    if col not in columns_not_to_drop:\n",
    "        test.drop(columns=col, inplace=True)"
   ]
  },
  {
   "cell_type": "code",
   "execution_count": 32,
   "id": "2e0ba557",
   "metadata": {},
   "outputs": [
    {
     "data": {
      "text/html": [
       "<div>\n",
       "<style scoped>\n",
       "    .dataframe tbody tr th:only-of-type {\n",
       "        vertical-align: middle;\n",
       "    }\n",
       "\n",
       "    .dataframe tbody tr th {\n",
       "        vertical-align: top;\n",
       "    }\n",
       "\n",
       "    .dataframe thead th {\n",
       "        text-align: right;\n",
       "    }\n",
       "</style>\n",
       "<table border=\"1\" class=\"dataframe\">\n",
       "  <thead>\n",
       "    <tr style=\"text-align: right;\">\n",
       "      <th></th>\n",
       "      <th>review</th>\n",
       "      <th>destr_review</th>\n",
       "    </tr>\n",
       "  </thead>\n",
       "  <tbody>\n",
       "    <tr>\n",
       "      <th>0</th>\n",
       "      <td>['cute', 'sweet', 'story', 'girl', 'travel', '...</td>\n",
       "      <td>cute sweet story girl travel neverland fall ca...</td>\n",
       "    </tr>\n",
       "    <tr>\n",
       "      <th>1</th>\n",
       "      <td>['plot', 'regurgitation', 'couple', 'call', 'f...</td>\n",
       "      <td>plot regurgitation couple call fantasy fiction...</td>\n",
       "    </tr>\n",
       "    <tr>\n",
       "      <th>2</th>\n",
       "      <td>['star', 'contemporary', 'romance']</td>\n",
       "      <td>star contemporary romance</td>\n",
       "    </tr>\n",
       "    <tr>\n",
       "      <th>3</th>\n",
       "      <td>['another', 'king', 'read', 'many', 'year', 'a...</td>\n",
       "      <td>another king read many year ago back day read ...</td>\n",
       "    </tr>\n",
       "    <tr>\n",
       "      <th>4</th>\n",
       "      <td>['good', 'good', 'took', 'suck', 'convince', '...</td>\n",
       "      <td>good good took suck convince beginning resist ...</td>\n",
       "    </tr>\n",
       "  </tbody>\n",
       "</table>\n",
       "</div>"
      ],
      "text/plain": [
       "                                              review  \\\n",
       "0  ['cute', 'sweet', 'story', 'girl', 'travel', '...   \n",
       "1  ['plot', 'regurgitation', 'couple', 'call', 'f...   \n",
       "2                ['star', 'contemporary', 'romance']   \n",
       "3  ['another', 'king', 'read', 'many', 'year', 'a...   \n",
       "4  ['good', 'good', 'took', 'suck', 'convince', '...   \n",
       "\n",
       "                                        destr_review  \n",
       "0  cute sweet story girl travel neverland fall ca...  \n",
       "1  plot regurgitation couple call fantasy fiction...  \n",
       "2                          star contemporary romance  \n",
       "3  another king read many year ago back day read ...  \n",
       "4  good good took suck convince beginning resist ...  "
      ]
     },
     "execution_count": 32,
     "metadata": {},
     "output_type": "execute_result"
    }
   ],
   "source": [
    "test.head()"
   ]
  },
  {
   "cell_type": "code",
   "execution_count": 36,
   "id": "160aeeb6",
   "metadata": {},
   "outputs": [],
   "source": [
    "pred = grid_search.best_estimator_.predict(test_vec)"
   ]
  },
  {
   "cell_type": "code",
   "execution_count": 37,
   "id": "94314497",
   "metadata": {},
   "outputs": [
    {
     "data": {
      "text/plain": [
       "array([4, 4, 4, ..., 4, 5, 4], dtype=int64)"
      ]
     },
     "execution_count": 37,
     "metadata": {},
     "output_type": "execute_result"
    }
   ],
   "source": [
    "pred"
   ]
  },
  {
   "cell_type": "code",
   "execution_count": 40,
   "id": "7640b344",
   "metadata": {},
   "outputs": [],
   "source": [
    "submission = pd.DataFrame({'review_id':test_copy['review_id'],'rating':pred}) "
   ]
  },
  {
   "cell_type": "code",
   "execution_count": 41,
   "id": "0d14b888",
   "metadata": {},
   "outputs": [],
   "source": [
    "submission.to_csv('output.csv', index=False)"
   ]
  },
  {
   "cell_type": "code",
   "execution_count": null,
   "id": "f6957879",
   "metadata": {},
   "outputs": [],
   "source": []
  }
 ],
 "metadata": {
  "kernelspec": {
   "display_name": "Python 3 (ipykernel)",
   "language": "python",
   "name": "python3"
  },
  "language_info": {
   "codemirror_mode": {
    "name": "ipython",
    "version": 3
   },
   "file_extension": ".py",
   "mimetype": "text/x-python",
   "name": "python",
   "nbconvert_exporter": "python",
   "pygments_lexer": "ipython3",
   "version": "3.9.13"
  }
 },
 "nbformat": 4,
 "nbformat_minor": 5
}
